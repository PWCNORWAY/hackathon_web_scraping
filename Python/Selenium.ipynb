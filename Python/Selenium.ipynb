{
 "cells": [
  {
   "cell_type": "markdown",
   "metadata": {},
   "source": [
    "# Scraping med Selenium i python"
   ]
  },
  {
   "cell_type": "markdown",
   "metadata": {},
   "source": [
    "`Selenium` er et enkelt scraping-bibliotek i python. Det bruker en webdriver som håndterer oppkobling, navigasjon og ekstaksjon av data fra netsider. \n",
    "[Dokumentasjon](https://selenium-python.readthedocs.io/index.html/)\n",
    "\n",
    "Passer godt for:\n",
    "* Enkle til mer avanserte oppgaver\n",
    "* Situasjoner hvor man må interagere med nettsiden som scrapes\n",
    "\n",
    "Fordeler:\n",
    "* Svært Enkel i bruk \n",
    "* Automatisk gjennkjenning av HTML/CSS kode\n",
    "* Håndterer javascript og interaksjon med de ulike elementene på siden \n",
    "\n",
    "Ulemper:\n",
    "* For interaksjon med større systemer/svært gjentakende oppgaver kan det være anbefalt å bruke `scrapy` med en extension for javascript for å løse oppgavene \n",
    "* Litt treg ettersom den laster inn hele sider heller enn å bare trekke ut HTML\n",
    "\n",
    "Her brukes selenium i sin standardversjon, men man kan også bruke webdriveren fra `selenium-respectful` for å håndtere begrensninger satt i robots.txt på ulike nettsider ([Lenke](https://pypi.org/project/selenium-respectful/)). NB. dette krever Redis og vil ikke bli gjennomgått i denne sesjonen. For små enkle prosjekter kan pålagt ventetid/request per sekund håndteres med `time`-modulen "
   ]
  },
  {
   "cell_type": "markdown",
   "metadata": {},
   "source": [
    "## Webdriver\n",
    "For å bruke selenium må du laste ned en webdriver som passer til din nettleser. Bruker du PwC PC anbefales bruk av Firefox ettersom chrome driveren får problemer med brannmuren. \n",
    "1. Last ned firefox på din pc (hvis du ikke har dette fra før)\n",
    "2. Last ned den tilhørende wedriveren geckodriver [herfra](https://github.com/mozilla/geckodriver/releases)"
   ]
  },
  {
   "cell_type": "markdown",
   "metadata": {},
   "source": [
    "## Enkelt kodeeksempel"
   ]
  },
  {
   "cell_type": "markdown",
   "metadata": {},
   "source": [
    "Oppgave: Søk på \"Nakstad\" på nrk.no og hent ut alle søkeresultatene med tilhørende lenker"
   ]
  },
  {
   "cell_type": "code",
   "execution_count": 115,
   "metadata": {},
   "outputs": [],
   "source": [
    "from selenium import webdriver # Webdriver-modul som lar deg interagere med nettsider\n",
    "from selenium.webdriver.common.keys import Keys # Lar deg burke taster, feks. enter-knappen\n",
    "from selenium.webdriver.common.by import By\n",
    "from selenium.webdriver.support.ui import WebDriverWait\n",
    "from selenium.webdriver.support import expected_conditions as EC\n",
    "import pandas as pd\n",
    "import time"
   ]
  },
  {
   "cell_type": "code",
   "execution_count": 106,
   "metadata": {},
   "outputs": [],
   "source": [
    "PATH = \"C:\\\\Users\\\\isandvik003\\Documents\\\\Webdriver\\\\geckodriver.exe\" # Definere filsti til din webdriver lokalt på pcen \n",
    "driver = webdriver.Firefox(executable_path = PATH) # Sette opp driveren som skal brukes"
   ]
  },
  {
   "cell_type": "code",
   "execution_count": 110,
   "metadata": {},
   "outputs": [],
   "source": [
    "driver.get(\"https://www.nrk.no/\") # Hent siden vi er interessert i "
   ]
  },
  {
   "cell_type": "code",
   "execution_count": 111,
   "metadata": {},
   "outputs": [],
   "source": [
    "search = driver.find_element_by_name(\"q\") # Lokaliser søkefelt. Inspeksjon av HTML viser at denne har \"name = q\"\n",
    "search.send_keys(\"nakstad\") # Skriv inn ønsket tekst i søkefelt \n",
    "search.send_keys(Keys.RETURN) # Trykk enter"
   ]
  },
  {
   "cell_type": "markdown",
   "metadata": {},
   "source": [
    "Vi er interessert i resultatene fra nrk.no, men ikke alle de nyeste søkeresultatene vises på siden. Vi vil derfor trykke på \"+ vis mer fra NRK.no\"-knappen for å få opp alle de nyeste treffene. Det kan ta varierende tid å laste inn siden med søkeresultatene. Det kan derfor være greit å legge inn en liten buffer slik at vi er sikker på at elementene er lastet på siden før vi gjør nye spørringer. "
   ]
  },
  {
   "cell_type": "code",
   "execution_count": 67,
   "metadata": {},
   "outputs": [],
   "source": [
    "# Superenkel måte åg gjøre det på \n",
    "#time.sleep(5) # Venter fem sek før den kjører neste kodelinje, bør være nok tid til at elementene er lastet \n",
    "#buttons = driver.find_elements_by_class_name(\"nrkno-search-button\") # Den vi vi trykke på er den fjerde knappen\n",
    "#buttons[3].click()"
   ]
  },
  {
   "cell_type": "code",
   "execution_count": 112,
   "metadata": {},
   "outputs": [],
   "source": [
    "# like enkel måte å gjøre det på\n",
    "try:\n",
    "    element = WebDriverWait(driver, 20).until(\n",
    "        EC.presence_of_element_located((By.TAG_NAME, \"main\"))\n",
    "    )\n",
    "    buttons = driver.find_elements_by_class_name(\"nrkno-search-button\") # Den vi vi trykke på er den fjerde knappen\n",
    "    buttons[3].click()\n",
    "except:\n",
    "    driver.quit()"
   ]
  },
  {
   "cell_type": "code",
   "execution_count": 113,
   "metadata": {},
   "outputs": [],
   "source": [
    "sections = driver.find_elements_by_class_name(\"nrkno-search-group\") # Finner alle elemetene med denne klassen (grupperte søkeresultater fra radio, nett, p3 etc.)\n",
    "articles = sections[3].find_elements_by_class_name(\"nrkno-search-hit\") # NRK.no er den fjerde instansen med denne klassen, henter deretter ut hver artikkel "
   ]
  },
  {
   "cell_type": "code",
   "execution_count": 122,
   "metadata": {},
   "outputs": [],
   "source": [
    "results = pd.DataFrame(columns = ['Overskrift','Ingress','Lenke']) # Holder informasjonen som skal returneres\n",
    "for article in articles:\n",
    "    title = article.find_element_by_class_name(\"nrkno-search-hit__link\").text # Overskrift\n",
    "    link = article.find_element_by_class_name(\"nrkno-search-hit__link\").get_attribute(\"href\") # Lenke \n",
    "    excp = article.find_element_by_class_name(\"nrkno-search-hit__excerpt\").text # Ingress\n",
    "    res = [title, excp, link]\n",
    "    results = results.append(pd.Series(res, index = ['Overskrift','Ingress','Lenke']), ignore_index = True) # Lagrer resultatene"
   ]
  },
  {
   "cell_type": "code",
   "execution_count": 123,
   "metadata": {},
   "outputs": [
    {
     "data": {
      "text/html": [
       "<div>\n",
       "<style scoped>\n",
       "    .dataframe tbody tr th:only-of-type {\n",
       "        vertical-align: middle;\n",
       "    }\n",
       "\n",
       "    .dataframe tbody tr th {\n",
       "        vertical-align: top;\n",
       "    }\n",
       "\n",
       "    .dataframe thead th {\n",
       "        text-align: right;\n",
       "    }\n",
       "</style>\n",
       "<table border=\"1\" class=\"dataframe\">\n",
       "  <thead>\n",
       "    <tr style=\"text-align: right;\">\n",
       "      <th></th>\n",
       "      <th>Overskrift</th>\n",
       "      <th>Ingress</th>\n",
       "      <th>Lenke</th>\n",
       "    </tr>\n",
       "  </thead>\n",
       "  <tbody>\n",
       "    <tr>\n",
       "      <th>0</th>\n",
       "      <td>Regjeringen opphever tiltaksnivåene på Østlandet</td>\n",
       "      <td>Regjeringen opphever tiltaksnivåene for østlan...</td>\n",
       "      <td>https://www.nrk.no/norge/regjeringen-opphever-...</td>\n",
       "    </tr>\n",
       "    <tr>\n",
       "      <th>1</th>\n",
       "      <td>Nakstad: Så lave må smittetallene være for at ...</td>\n",
       "      <td>Assisterende helsedirektør Espen Rostrup Nakst...</td>\n",
       "      <td>https://www.nrk.no/norge/nakstad_-ma-godt-unde...</td>\n",
       "    </tr>\n",
       "    <tr>\n",
       "      <th>2</th>\n",
       "      <td>Nakstad: – Tror ikke folk i Oslo forstår alvoret</td>\n",
       "      <td>Smittetallene i Oslo går jevnt oppover. Nå ber...</td>\n",
       "      <td>https://www.nrk.no/norge/helsemyndighetene-er-...</td>\n",
       "    </tr>\n",
       "    <tr>\n",
       "      <th>3</th>\n",
       "      <td>FHI estimerer R-tallet til 1: – Smittekurven h...</td>\n",
       "      <td>For første gang på fem uker er det påvist færr...</td>\n",
       "      <td>https://www.nrk.no/norge/faerre-nye-koronatilf...</td>\n",
       "    </tr>\n",
       "    <tr>\n",
       "      <th>4</th>\n",
       "      <td>Nakstad: Kan komme nye tiltak for barn og unge</td>\n",
       "      <td>Neste uke skal rådene og retningslinjene i sko...</td>\n",
       "      <td>https://www.nrk.no/norge/nakstad_-kan-komme-ny...</td>\n",
       "    </tr>\n",
       "    <tr>\n",
       "      <th>5</th>\n",
       "      <td>Legar hyller Nakstad med eksklusive plagg</td>\n",
       "      <td>To legar vil få folk til å trykke Nakstad til ...</td>\n",
       "      <td>https://www.nrk.no/osloogviken/overlege-sel-na...</td>\n",
       "    </tr>\n",
       "    <tr>\n",
       "      <th>6</th>\n",
       "      <td>Nakstad: – De neste to månedene kommer til å b...</td>\n",
       "      <td>Mars og april kan bli de vanskeligste i hele p...</td>\n",
       "      <td>https://www.nrk.no/norge/nakstad_-_-de-neste-t...</td>\n",
       "    </tr>\n",
       "    <tr>\n",
       "      <th>7</th>\n",
       "      <td>Nakstad: Mye tyder på at andre smittebølge er ...</td>\n",
       "      <td>Mandag ble det registrert 282 nye koronasmitte...</td>\n",
       "      <td>https://www.nrk.no/norge/nakstad_-mye-tyder-pa...</td>\n",
       "    </tr>\n",
       "    <tr>\n",
       "      <th>8</th>\n",
       "      <td>Nakstad frykter ny smittebølge når vaksinen ko...</td>\n",
       "      <td>Vi kan få en ny smittebølge dersom vi slapper ...</td>\n",
       "      <td>https://www.nrk.no/norge/frykter-ny-smittebolg...</td>\n",
       "    </tr>\n",
       "    <tr>\n",
       "      <th>9</th>\n",
       "      <td>Nakstad: – Vi kan ha håp om at det begynner å ...</td>\n",
       "      <td>Det siste døgnet er det registrert 397 nye kor...</td>\n",
       "      <td>https://www.nrk.no/osloogviken/397-nye-koronas...</td>\n",
       "    </tr>\n",
       "    <tr>\n",
       "      <th>10</th>\n",
       "      <td>Nakstad: Fordelen med vinterferie er mindre ko...</td>\n",
       "      <td>Så lenge folk tar med seg smittevernrådene på ...</td>\n",
       "      <td>https://www.nrk.no/norge/nakstad_-fordelen-med...</td>\n",
       "    </tr>\n",
       "    <tr>\n",
       "      <th>11</th>\n",
       "      <td>Nakstad: Ikke overrasket over søksmålet fra 10...</td>\n",
       "      <td>– Jeg er ikke så overrasket over at domstolene...</td>\n",
       "      <td>https://www.nrk.no/norge/nakstad_-ikke-overras...</td>\n",
       "    </tr>\n",
       "    <tr>\n",
       "      <th>12</th>\n",
       "      <td>Nakstad uenig med FHI om koronatiltakene når v...</td>\n",
       "      <td>Når risikogruppene er vaksinert om få måneder,...</td>\n",
       "      <td>https://www.nrk.no/norge/nakstad-og-fhi-uenige...</td>\n",
       "    </tr>\n",
       "    <tr>\n",
       "      <th>13</th>\n",
       "      <td>Nakstad: – Vi ser at de strenge tiltakene virk...</td>\n",
       "      <td>– Det ser ut som smittetallene noen steder fla...</td>\n",
       "      <td>https://www.nrk.no/norge/nakstad_-_-vi-ser-at-...</td>\n",
       "    </tr>\n",
       "    <tr>\n",
       "      <th>14</th>\n",
       "      <td>Nakstad: Ser tegn til at mutantviruset gir mer...</td>\n",
       "      <td>Flere innleggelser på grunn av mutantvirus vil...</td>\n",
       "      <td>https://www.nrk.no/norge/nakstad_-ser-tegn-til...</td>\n",
       "    </tr>\n",
       "    <tr>\n",
       "      <th>15</th>\n",
       "      <td>Nakstad: – Lover ingen normal hverdag før til ...</td>\n",
       "      <td>Espen Nakstad heller kaldt vann i blodet for d...</td>\n",
       "      <td>https://www.nrk.no/norge/nakstad_-_-lover-inge...</td>\n",
       "    </tr>\n",
       "    <tr>\n",
       "      <th>16</th>\n",
       "      <td>Her er Nakstads vinterferieråd</td>\n",
       "      <td>To uker før vinterferien sier Helsedirektorate...</td>\n",
       "      <td>https://www.nrk.no/norge/her-er-nakstads-vinte...</td>\n",
       "    </tr>\n",
       "    <tr>\n",
       "      <th>17</th>\n",
       "      <td>23 nye smittetilfeller i Halden – Oslo letter ...</td>\n",
       "      <td>20 av de smittede i Halden kan spores tilbake ...</td>\n",
       "      <td>https://www.nrk.no/norge/nakstad_-_-vi-kommer-...</td>\n",
       "    </tr>\n",
       "    <tr>\n",
       "      <th>18</th>\n",
       "      <td>Nakstad: Vanskelig å sammenligne Norge og Sverige</td>\n",
       "      <td>Selv om koronasmitten i Norge nå øker mer enn ...</td>\n",
       "      <td>https://www.nrk.no/norge/nakstad_-vanskelig-a-...</td>\n",
       "    </tr>\n",
       "    <tr>\n",
       "      <th>19</th>\n",
       "      <td>Nakstad tror smittebølgen i Europa vil stige f...</td>\n",
       "      <td>Europa opplevde onsdag sine høyeste registrert...</td>\n",
       "      <td>https://www.nrk.no/urix/nakstad-tror-smittebol...</td>\n",
       "    </tr>\n",
       "  </tbody>\n",
       "</table>\n",
       "</div>"
      ],
      "text/plain": [
       "                                           Overskrift  \\\n",
       "0    Regjeringen opphever tiltaksnivåene på Østlandet   \n",
       "1   Nakstad: Så lave må smittetallene være for at ...   \n",
       "2    Nakstad: – Tror ikke folk i Oslo forstår alvoret   \n",
       "3   FHI estimerer R-tallet til 1: – Smittekurven h...   \n",
       "4      Nakstad: Kan komme nye tiltak for barn og unge   \n",
       "5           Legar hyller Nakstad med eksklusive plagg   \n",
       "6   Nakstad: – De neste to månedene kommer til å b...   \n",
       "7   Nakstad: Mye tyder på at andre smittebølge er ...   \n",
       "8   Nakstad frykter ny smittebølge når vaksinen ko...   \n",
       "9   Nakstad: – Vi kan ha håp om at det begynner å ...   \n",
       "10  Nakstad: Fordelen med vinterferie er mindre ko...   \n",
       "11  Nakstad: Ikke overrasket over søksmålet fra 10...   \n",
       "12  Nakstad uenig med FHI om koronatiltakene når v...   \n",
       "13  Nakstad: – Vi ser at de strenge tiltakene virk...   \n",
       "14  Nakstad: Ser tegn til at mutantviruset gir mer...   \n",
       "15  Nakstad: – Lover ingen normal hverdag før til ...   \n",
       "16                     Her er Nakstads vinterferieråd   \n",
       "17  23 nye smittetilfeller i Halden – Oslo letter ...   \n",
       "18  Nakstad: Vanskelig å sammenligne Norge og Sverige   \n",
       "19  Nakstad tror smittebølgen i Europa vil stige f...   \n",
       "\n",
       "                                              Ingress  \\\n",
       "0   Regjeringen opphever tiltaksnivåene for østlan...   \n",
       "1   Assisterende helsedirektør Espen Rostrup Nakst...   \n",
       "2   Smittetallene i Oslo går jevnt oppover. Nå ber...   \n",
       "3   For første gang på fem uker er det påvist færr...   \n",
       "4   Neste uke skal rådene og retningslinjene i sko...   \n",
       "5   To legar vil få folk til å trykke Nakstad til ...   \n",
       "6   Mars og april kan bli de vanskeligste i hele p...   \n",
       "7   Mandag ble det registrert 282 nye koronasmitte...   \n",
       "8   Vi kan få en ny smittebølge dersom vi slapper ...   \n",
       "9   Det siste døgnet er det registrert 397 nye kor...   \n",
       "10  Så lenge folk tar med seg smittevernrådene på ...   \n",
       "11  – Jeg er ikke så overrasket over at domstolene...   \n",
       "12  Når risikogruppene er vaksinert om få måneder,...   \n",
       "13  – Det ser ut som smittetallene noen steder fla...   \n",
       "14  Flere innleggelser på grunn av mutantvirus vil...   \n",
       "15  Espen Nakstad heller kaldt vann i blodet for d...   \n",
       "16  To uker før vinterferien sier Helsedirektorate...   \n",
       "17  20 av de smittede i Halden kan spores tilbake ...   \n",
       "18  Selv om koronasmitten i Norge nå øker mer enn ...   \n",
       "19  Europa opplevde onsdag sine høyeste registrert...   \n",
       "\n",
       "                                                Lenke  \n",
       "0   https://www.nrk.no/norge/regjeringen-opphever-...  \n",
       "1   https://www.nrk.no/norge/nakstad_-ma-godt-unde...  \n",
       "2   https://www.nrk.no/norge/helsemyndighetene-er-...  \n",
       "3   https://www.nrk.no/norge/faerre-nye-koronatilf...  \n",
       "4   https://www.nrk.no/norge/nakstad_-kan-komme-ny...  \n",
       "5   https://www.nrk.no/osloogviken/overlege-sel-na...  \n",
       "6   https://www.nrk.no/norge/nakstad_-_-de-neste-t...  \n",
       "7   https://www.nrk.no/norge/nakstad_-mye-tyder-pa...  \n",
       "8   https://www.nrk.no/norge/frykter-ny-smittebolg...  \n",
       "9   https://www.nrk.no/osloogviken/397-nye-koronas...  \n",
       "10  https://www.nrk.no/norge/nakstad_-fordelen-med...  \n",
       "11  https://www.nrk.no/norge/nakstad_-ikke-overras...  \n",
       "12  https://www.nrk.no/norge/nakstad-og-fhi-uenige...  \n",
       "13  https://www.nrk.no/norge/nakstad_-_-vi-ser-at-...  \n",
       "14  https://www.nrk.no/norge/nakstad_-ser-tegn-til...  \n",
       "15  https://www.nrk.no/norge/nakstad_-_-lover-inge...  \n",
       "16  https://www.nrk.no/norge/her-er-nakstads-vinte...  \n",
       "17  https://www.nrk.no/norge/nakstad_-_-vi-kommer-...  \n",
       "18  https://www.nrk.no/norge/nakstad_-vanskelig-a-...  \n",
       "19  https://www.nrk.no/urix/nakstad-tror-smittebol...  "
      ]
     },
     "execution_count": 123,
     "metadata": {},
     "output_type": "execute_result"
    }
   ],
   "source": [
    "results"
   ]
  },
  {
   "cell_type": "code",
   "execution_count": 124,
   "metadata": {},
   "outputs": [],
   "source": [
    "driver.quit() # Avslutter driveren"
   ]
  }
 ],
 "metadata": {
  "kernelspec": {
   "display_name": "Python 3",
   "language": "python",
   "name": "python3"
  },
  "language_info": {
   "codemirror_mode": {
    "name": "ipython",
    "version": 3
   },
   "file_extension": ".py",
   "mimetype": "text/x-python",
   "name": "python",
   "nbconvert_exporter": "python",
   "pygments_lexer": "ipython3",
   "version": "3.8.5"
  }
 },
 "nbformat": 4,
 "nbformat_minor": 4
}

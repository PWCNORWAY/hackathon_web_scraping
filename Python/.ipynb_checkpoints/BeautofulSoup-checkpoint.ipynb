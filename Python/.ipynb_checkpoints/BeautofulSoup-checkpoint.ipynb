{
 "cells": [
  {
   "cell_type": "markdown",
   "metadata": {},
   "source": [
    "# Scraping med Beatiful Soup i Python "
   ]
  },
  {
   "cell_type": "markdown",
   "metadata": {},
   "source": [
    "`Beatiful Soup` er et enkelt scraping-bibliotek i python. Beatiful soup er kun en parser, og må derfor kombineres med et bibliotek som kan sende reqeusts og hente data fra nettsider, ofte `requests`-biblioteket. [Dokumentasjon](https://beautiful-soup-4.readthedocs.io/en/latest/)\n",
    "\n",
    "Passer godt for:\n",
    "* Enkle oppgaver\n",
    "* Ikke gjentakende oppgaver\n",
    "\n",
    "Fordeler:\n",
    "* Svært enkel i bruk \n",
    "* God dokumentasjon\n",
    "* Automatisk gjennkjenning av HTML/CSS kode\n",
    "\n",
    "Ulemper:\n",
    "* Kan ikke parse javascript\n",
    "* Kan være treg i bruk (spesielt hvis man ikke kombinerer det med lxml-parser)\n",
    "\n",
    "Her brukes `requests` i sin standardversjon, men man kan også bruke `requests-respectful` for å håndtere begrensninger satt i robots.txt på ulike nettsider ([Lenke](https://pypi.org/project/requests-respectful/)). NB. dette krever Redis og vil ikke bli gjennomgått i denne sesjonen. For små enkle prosjekter kan pålagt ventetid/request per sekund håndteres med `time`-modulen"
   ]
  },
  {
   "cell_type": "code",
   "execution_count": 34,
   "metadata": {},
   "outputs": [],
   "source": [
    "import requests\n",
    "import lxml\n",
    "import bs4 as bs\n",
    "import pandas as pd"
   ]
  },
  {
   "cell_type": "markdown",
   "metadata": {},
   "source": [
    "## Beautiful Soup Basics"
   ]
  },
  {
   "cell_type": "markdown",
   "metadata": {},
   "source": [
    "Lese inn HTML fra en nettside (med `requests`-biblioteket) "
   ]
  },
  {
   "cell_type": "code",
   "execution_count": 35,
   "metadata": {},
   "outputs": [],
   "source": [
    "source =  requests.get(\"https://www.nrk.no/\") # Hente rå-html fra nettsiden"
   ]
  },
  {
   "cell_type": "markdown",
   "metadata": {},
   "source": [
    "Parse HTML-koden med Beautiful Soup"
   ]
  },
  {
   "cell_type": "code",
   "execution_count": 36,
   "metadata": {},
   "outputs": [],
   "source": [
    "soup = bs.BeautifulSoup(source.content, 'lxml') # Parse innholdet med lxml-parser"
   ]
  },
  {
   "cell_type": "markdown",
   "metadata": {},
   "source": [
    "Finn et gitt element"
   ]
  },
  {
   "cell_type": "code",
   "execution_count": 37,
   "metadata": {},
   "outputs": [
    {
     "name": "stdout",
     "output_type": "stream",
     "text": [
      "<h2>Nyheter</h2>\n",
      "<h2 class=\"kur-newsfeed__title\"> <span>Nyhetsmeldinger</span> </h2>\n"
     ]
    }
   ],
   "source": [
    "# Finner første instans av en gitt tag\n",
    "print(soup.find('h2'))\n",
    "\n",
    "# Finn første instans av en tag med en spesifikk klasse\n",
    "print(soup.find('h2', class_ =\"kur-newsfeed__title\"))"
   ]
  },
  {
   "cell_type": "markdown",
   "metadata": {},
   "source": [
    "Finn alle av et gitt element"
   ]
  },
  {
   "cell_type": "code",
   "execution_count": 38,
   "metadata": {},
   "outputs": [],
   "source": [
    "# Finner alle instanser av en gitt tag\n",
    "#print(soup.find_all('button'))\n",
    "\n",
    "# Finn alle instanser av en tag med en spesifikk klasse\n",
    "#print(soup.find_all('button', class_ =\"nrk-masthead__more\"))"
   ]
  },
  {
   "cell_type": "markdown",
   "metadata": {},
   "source": [
    "Hente ut tekst fra tag"
   ]
  },
  {
   "cell_type": "code",
   "execution_count": 39,
   "metadata": {},
   "outputs": [
    {
     "name": "stdout",
     "output_type": "stream",
     "text": [
      " Nyhetsmeldinger \n"
     ]
    }
   ],
   "source": [
    "print(soup.find('h2', class_ =\"kur-newsfeed__title\").get_text())"
   ]
  },
  {
   "cell_type": "markdown",
   "metadata": {},
   "source": [
    "Hente ut link fra `<a>`-tag"
   ]
  },
  {
   "cell_type": "code",
   "execution_count": 40,
   "metadata": {},
   "outputs": [
    {
     "name": "stdout",
     "output_type": "stream",
     "text": [
      "https://www.nrk.no/\n"
     ]
    }
   ],
   "source": [
    "print(soup.find('a', href = True)['href'])"
   ]
  },
  {
   "cell_type": "markdown",
   "metadata": {},
   "source": [
    "## Enkelt kodeeksempel \n",
    "\n",
    "Gå gjennom forsiden på NRK.no og hent ut alle overskriftene + lenke til artikklene "
   ]
  },
  {
   "cell_type": "code",
   "execution_count": 41,
   "metadata": {},
   "outputs": [
    {
     "data": {
      "text/plain": [
       "37"
      ]
     },
     "execution_count": 41,
     "metadata": {},
     "output_type": "execute_result"
    }
   ],
   "source": [
    "# Hente rå-html fra nettsiden\n",
    "source =  requests.get(\"https://www.nrk.no/\")\n",
    "\n",
    "# Parse innholdet\n",
    "soup = bs.BeautifulSoup(source.content, 'lxml') \n",
    "\n",
    "# Du kan sjekke hvordan HTML-koden leses inn, prettify() gir ca. riktig indentering på HTML-elementene\n",
    "#print(forside.body.prettify()) \n",
    "\n",
    "# Henter ut alle nyhetsartiklere, de ligger i section-tags\n",
    "seksjoner = soup.find_all('section')\n",
    "\n",
    "# Vi er ikke interessert i den første (nyhetsvarselene), så denne fjernes fra listen \n",
    "seksjoner.pop(0) \n",
    "len(seksjoner) "
   ]
  },
  {
   "cell_type": "markdown",
   "metadata": {},
   "source": [
    "Vi er interessert i lenker til hver artikkel (som ligger i `<a>` tags) og overskriftene, som finnes i `<h1>`, `<h2>` eller `<h3>` tags.\n",
    "\n",
    "Som vi ser av printen ligger det en del informasjon nøstet i hver `<a>`-tag, deriblant overskriften på artikkelen. Vi trenger derfor kun å hente ut informasjonen som ligger i hver `<a>`-tag, og jobbe videre med det. Hver `<section>`-tag kan inneholde flere artikler, så vi må passe på å hente ut all informasjonen som trengs fra hver artikkel i hver `<section>`."
   ]
  },
  {
   "cell_type": "code",
   "execution_count": 43,
   "metadata": {},
   "outputs": [
    {
     "data": {
      "text/html": [
       "<div>\n",
       "<style scoped>\n",
       "    .dataframe tbody tr th:only-of-type {\n",
       "        vertical-align: middle;\n",
       "    }\n",
       "\n",
       "    .dataframe tbody tr th {\n",
       "        vertical-align: top;\n",
       "    }\n",
       "\n",
       "    .dataframe thead th {\n",
       "        text-align: right;\n",
       "    }\n",
       "</style>\n",
       "<table border=\"1\" class=\"dataframe\">\n",
       "  <thead>\n",
       "    <tr style=\"text-align: right;\">\n",
       "      <th></th>\n",
       "      <th>Overskrift</th>\n",
       "      <th>Lenke</th>\n",
       "    </tr>\n",
       "  </thead>\n",
       "  <tbody>\n",
       "    <tr>\n",
       "      <th>0</th>\n",
       "      <td>Advokat Tor Kjærvik skutt og drept – siktede o...</td>\n",
       "      <td>https://www.nrk.no/norge/en-person-dod-etter-s...</td>\n",
       "    </tr>\n",
       "    <tr>\n",
       "      <th>1</th>\n",
       "      <td>Tor Kjærvik: Kjent fra flere av krim­historien...</td>\n",
       "      <td>https://www.nrk.no/norge/advokat-tor-kjaervik-...</td>\n",
       "    </tr>\n",
       "    <tr>\n",
       "      <th>2</th>\n",
       "      <td>Danmark: Råkjørere risikerer at politiet selge...</td>\n",
       "      <td>https://www.nrk.no/urix/ny-lov-i-danmark_-kan-...</td>\n",
       "    </tr>\n",
       "    <tr>\n",
       "      <th>3</th>\n",
       "      <td>Nakstad om smitten: – Det er på vei litt nedov...</td>\n",
       "      <td>https://www.nrk.no/norge/nakstad__-gir-et-hap-...</td>\n",
       "    </tr>\n",
       "    <tr>\n",
       "      <th>4</th>\n",
       "      <td>IT-selskap ber folk rydde i innboksen</td>\n",
       "      <td>https://www.nrk.no/vestland/ber-folk-rydde-i-i...</td>\n",
       "    </tr>\n",
       "    <tr>\n",
       "      <th>...</th>\n",
       "      <td>...</td>\n",
       "      <td>...</td>\n",
       "    </tr>\n",
       "    <tr>\n",
       "      <th>73</th>\n",
       "      <td>Rusinstitusjon frustrert: – Vi har ikke tatt u...</td>\n",
       "      <td>https://www.nrk.no/rogaland/trond-skarpsno-i-f...</td>\n",
       "    </tr>\n",
       "    <tr>\n",
       "      <th>74</th>\n",
       "      <td>Her ligg Mercedesen midt i Oslo­fjorden</td>\n",
       "      <td>https://www.nrk.no/blalys-for-havet-1.15433282</td>\n",
       "    </tr>\n",
       "    <tr>\n",
       "      <th>75</th>\n",
       "      <td>De unge kan nesten ikke vente: – Jeg skal rett...</td>\n",
       "      <td>https://www.nrk.no/spesial/lyspunkt/</td>\n",
       "    </tr>\n",
       "    <tr>\n",
       "      <th>76</th>\n",
       "      <td>Norsk «is-tsunami» fanga på film</td>\n",
       "      <td>https://www.nrk.no/innlandet/fanga-video-av-_i...</td>\n",
       "    </tr>\n",
       "    <tr>\n",
       "      <th>77</th>\n",
       "      <td>Sjekk ut NRKs podkaster</td>\n",
       "      <td>https://www.nrk.no/podkast/</td>\n",
       "    </tr>\n",
       "  </tbody>\n",
       "</table>\n",
       "<p>78 rows × 2 columns</p>\n",
       "</div>"
      ],
      "text/plain": [
       "                                           Overskrift  \\\n",
       "0   Advokat Tor Kjærvik skutt og drept – siktede o...   \n",
       "1   Tor Kjærvik: Kjent fra flere av krim­historien...   \n",
       "2   Danmark: Råkjørere risikerer at politiet selge...   \n",
       "3   Nakstad om smitten: – Det er på vei litt nedov...   \n",
       "4               IT-selskap ber folk rydde i innboksen   \n",
       "..                                                ...   \n",
       "73  Rusinstitusjon frustrert: – Vi har ikke tatt u...   \n",
       "74            Her ligg Mercedesen midt i Oslo­fjorden   \n",
       "75  De unge kan nesten ikke vente: – Jeg skal rett...   \n",
       "76                   Norsk «is-tsunami» fanga på film   \n",
       "77                            Sjekk ut NRKs podkaster   \n",
       "\n",
       "                                                Lenke  \n",
       "0   https://www.nrk.no/norge/en-person-dod-etter-s...  \n",
       "1   https://www.nrk.no/norge/advokat-tor-kjaervik-...  \n",
       "2   https://www.nrk.no/urix/ny-lov-i-danmark_-kan-...  \n",
       "3   https://www.nrk.no/norge/nakstad__-gir-et-hap-...  \n",
       "4   https://www.nrk.no/vestland/ber-folk-rydde-i-i...  \n",
       "..                                                ...  \n",
       "73  https://www.nrk.no/rogaland/trond-skarpsno-i-f...  \n",
       "74     https://www.nrk.no/blalys-for-havet-1.15433282  \n",
       "75               https://www.nrk.no/spesial/lyspunkt/  \n",
       "76  https://www.nrk.no/innlandet/fanga-video-av-_i...  \n",
       "77                        https://www.nrk.no/podkast/  \n",
       "\n",
       "[78 rows x 2 columns]"
      ]
     },
     "execution_count": 43,
     "metadata": {},
     "output_type": "execute_result"
    }
   ],
   "source": [
    "# Holder informasjonen som skal returneres\n",
    "resultat = pd.DataFrame(columns = ['Overskrift','Lenke']) \n",
    "\n",
    "# Looper gjennom alle nyhetene i hver section-tag\n",
    "for seksjon in seksjoner:\n",
    "    for nyhet in seksjon.find_all('a', href=True):\n",
    "        \n",
    "        # Finner tittel-tekst fra riktig tag\n",
    "        tittel = nyhet.find(['h1','h2','h3']) \n",
    "        \n",
    "        # Hopp videre dersom artikkelen ikke har tittel\n",
    "        if(tittel == None):\n",
    "            continue\n",
    "        \n",
    "        # Fjerner linjeskift etc\n",
    "        tittel = ' '.join(tittel.text.split())\n",
    "        \n",
    "        # Henter ut lenken\n",
    "        link = nyhet['href']\n",
    "        \n",
    "        # Lagrer resultatene\n",
    "        resultat = resultat.append(pd.Series(\n",
    "            [tittel,link], index = ['Overskrift','Lenke']), ignore_index = True)\n",
    "\n",
    "        \n",
    "resultat"
   ]
  },
  {
   "cell_type": "code",
   "execution_count": null,
   "metadata": {},
   "outputs": [],
   "source": []
  }
 ],
 "metadata": {
  "kernelspec": {
   "display_name": "Python 3",
   "language": "python",
   "name": "python3"
  },
  "language_info": {
   "codemirror_mode": {
    "name": "ipython",
    "version": 3
   },
   "file_extension": ".py",
   "mimetype": "text/x-python",
   "name": "python",
   "nbconvert_exporter": "python",
   "pygments_lexer": "ipython3",
   "version": "3.8.5"
  }
 },
 "nbformat": 4,
 "nbformat_minor": 4
}

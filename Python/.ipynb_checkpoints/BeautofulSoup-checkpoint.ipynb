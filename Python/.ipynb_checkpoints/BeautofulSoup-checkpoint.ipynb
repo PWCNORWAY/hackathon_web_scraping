{
 "cells": [
  {
   "cell_type": "markdown",
   "metadata": {},
   "source": [
    "# Scraping med Beatiful Soup i Python "
   ]
  },
  {
   "cell_type": "markdown",
   "metadata": {},
   "source": [
    "Beatiful Soup er et enkelt scraping-bibliotek i python. Beatiful soup er kun en parser, og må derfor kombineres med et bibliotek som kan sende reqeusts og hente data fra nettsider. \n",
    "\n",
    "Passer godt for:\n",
    "* Enkle oppgaver\n",
    "* Ikke gjentakende oppgaver\n",
    "\n",
    "Fordeler:\n",
    "* Svært enkelt i bruk \n",
    "* God dokumentasjon\n",
    "* Automatisk gjennkjenning av HTML/CSS kode\n",
    "\n",
    "Ulemper:\n",
    "* Kan ikke parse javascript\n",
    "* Kan være treg i bruk (spesielt hvis man ikke kombinerer det med lxml-parser)"
   ]
  },
  {
   "cell_type": "code",
   "execution_count": 1,
   "metadata": {},
   "outputs": [],
   "source": [
    "import requests\n",
    "import urllib.request\n",
    "import lxml\n",
    "import bs4 as bs\n",
    "from collections import Counter\n",
    "import pandas as pd"
   ]
  },
  {
   "cell_type": "markdown",
   "metadata": {},
   "source": [
    "## Beautiful Soup Basics"
   ]
  },
  {
   "cell_type": "markdown",
   "metadata": {},
   "source": [
    "Lese inn HTML fra en nettside (med `requests`-biblioteket) "
   ]
  },
  {
   "cell_type": "code",
   "execution_count": 2,
   "metadata": {},
   "outputs": [],
   "source": [
    "source =  requests.get(\"https://www.nrk.no/\") # Hente rå-hrml fra nettsiden"
   ]
  },
  {
   "cell_type": "markdown",
   "metadata": {},
   "source": [
    "Parse HTML-koden med Beautiful Soup"
   ]
  },
  {
   "cell_type": "code",
   "execution_count": 3,
   "metadata": {},
   "outputs": [],
   "source": [
    "soup = bs.BeautifulSoup(source.content, 'lxml') # Parse innholdet"
   ]
  },
  {
   "cell_type": "markdown",
   "metadata": {},
   "source": [
    "Finn et gitt element"
   ]
  },
  {
   "cell_type": "code",
   "execution_count": 4,
   "metadata": {},
   "outputs": [
    {
     "name": "stdout",
     "output_type": "stream",
     "text": [
      "<h2>Nyheter</h2>\n",
      "<h2 class=\"kur-newsfeed__title\"> <span>Nyhetsmeldinger</span> </h2>\n"
     ]
    }
   ],
   "source": [
    "# Finner første instans av en gitt tag\n",
    "print(soup.find('h2'))\n",
    "\n",
    "# Finn første instans av en tag med en spesifikk klasse\n",
    "print(soup.find('h2', class_ =\"kur-newsfeed__title\"))"
   ]
  },
  {
   "cell_type": "markdown",
   "metadata": {},
   "source": [
    "Finn alle av et gitt element"
   ]
  },
  {
   "cell_type": "code",
   "execution_count": 5,
   "metadata": {},
   "outputs": [
    {
     "name": "stdout",
     "output_type": "stream",
     "text": [
      "[<button aria-controls=\"nrk-masthead__mega\" aria-expanded=\"false\" class=\"nrk-masthead__more\">\n",
      "<span>Mer</span>\n",
      "<svg aria-hidden=\"true\" focusable=\"false\" height=\"1.500em\" viewbox=\"0 0 15 15\" width=\"1.500em\"><path d=\"M1.5 5l6 6 6-6\" fill=\"none\" stroke=\"currentColor\" stroke-linecap=\"round\"></path></svg>\n",
      "</button>]\n"
     ]
    }
   ],
   "source": [
    "# Finner alle instanser av en gitt tag\n",
    "#print(soup.find_all('button'))\n",
    "\n",
    "# Finn alle instanser av en tag med en spesifikk klasse\n",
    "print(soup.find_all('button', class_ =\"nrk-masthead__more\"))"
   ]
  },
  {
   "cell_type": "markdown",
   "metadata": {},
   "source": [
    "Hente ut tekst fra tag"
   ]
  },
  {
   "cell_type": "code",
   "execution_count": 6,
   "metadata": {},
   "outputs": [
    {
     "name": "stdout",
     "output_type": "stream",
     "text": [
      " Nyhetsmeldinger \n"
     ]
    }
   ],
   "source": [
    "print(soup.find('h2', class_ =\"kur-newsfeed__title\").get_text())"
   ]
  },
  {
   "cell_type": "markdown",
   "metadata": {},
   "source": [
    "Hente ut link fra `<a>`-tag"
   ]
  },
  {
   "cell_type": "code",
   "execution_count": 7,
   "metadata": {},
   "outputs": [
    {
     "name": "stdout",
     "output_type": "stream",
     "text": [
      "https://www.nrk.no/\n"
     ]
    }
   ],
   "source": [
    "print(soup.find('a', href = True)['href'])"
   ]
  },
  {
   "cell_type": "markdown",
   "metadata": {},
   "source": [
    "## Enkelt kodeeksempel \n",
    "\n",
    "Gå gjennom forsiden på NRK.no og hent ut alle overskriftene + lenke til artikklene "
   ]
  },
  {
   "cell_type": "code",
   "execution_count": 8,
   "metadata": {},
   "outputs": [],
   "source": [
    "forside =  requests.get(\"https://www.nrk.no/\") # Hente rå-hrml fra nettsiden\n",
    "forside = bs.BeautifulSoup(forside.content, 'lxml') # Parse innholdet"
   ]
  },
  {
   "cell_type": "code",
   "execution_count": 10,
   "metadata": {},
   "outputs": [],
   "source": [
    "# Sjekk hvordan HTML-en leses inn\n",
    "#print(forside.body.prettify()) #Prettify er greit for å få ca riktig indentering på HTML-elementene"
   ]
  },
  {
   "cell_type": "code",
   "execution_count": 14,
   "metadata": {},
   "outputs": [
    {
     "data": {
      "text/plain": [
       "38"
      ]
     },
     "execution_count": 14,
     "metadata": {},
     "output_type": "execute_result"
    }
   ],
   "source": [
    "# Henter ut alle nyhetsartiklere, de ligger i section-tags\n",
    "seksjoner = forside.find_all('section')\n",
    "\n",
    "# Vi er ikke interessert i den første (nyhetsvarselene), så denne fjernes fra listen \n",
    "seksjoner.pop(0)\n",
    "len(seksjoner)"
   ]
  },
  {
   "cell_type": "markdown",
   "metadata": {},
   "source": [
    "`find_all` returnerer en liste med alle section-tagsene (med innhold) som finnes på nettsiden. Før vi henter ut det vi skal kan det være greit å ta en ekstra sjekk på hvordan det leses inn og hvor vi finner informasjonen vi trenger"
   ]
  },
  {
   "cell_type": "code",
   "execution_count": 15,
   "metadata": {},
   "outputs": [],
   "source": [
    "# print(seksjoner[5].prettify()) # Velger et tilfeldig element fra listen"
   ]
  },
  {
   "cell_type": "markdown",
   "metadata": {},
   "source": [
    "Vi er interessert i lenker til hver artikkel (som ligger i `<a>` tags) og overskriftene, som finnes i `<h1>`, `<h2>` eller `<h3>` tags.\n",
    "\n",
    "Som vi ser av printen ligger det en del informasjon nøstet i hver `<a>`-tag, deriblant overskriften på artikkelen. Vi trenger derfor kun å hente ut informasjonen som ligger i hver `<a>`-tag, og jobbe videre med det. Hver `<section>`-tag kan inneholde flere artikler, så vi må passe på å hente ut all informasjonen som trengs fra hver artikkel i hver `<section>`."
   ]
  },
  {
   "cell_type": "markdown",
   "metadata": {},
   "source": [
    "Vi lager derfor en funksjon som henter ut og cleaner overskrift + link til artikkel for hver `<a>` tag i en `<section>`: "
   ]
  },
  {
   "cell_type": "code",
   "execution_count": 16,
   "metadata": {},
   "outputs": [
    {
     "data": {
      "text/html": [
       "<div>\n",
       "<style scoped>\n",
       "    .dataframe tbody tr th:only-of-type {\n",
       "        vertical-align: middle;\n",
       "    }\n",
       "\n",
       "    .dataframe tbody tr th {\n",
       "        vertical-align: top;\n",
       "    }\n",
       "\n",
       "    .dataframe thead th {\n",
       "        text-align: right;\n",
       "    }\n",
       "</style>\n",
       "<table border=\"1\" class=\"dataframe\">\n",
       "  <thead>\n",
       "    <tr style=\"text-align: right;\">\n",
       "      <th></th>\n",
       "      <th>Overskrift</th>\n",
       "      <th>Lenke</th>\n",
       "    </tr>\n",
       "  </thead>\n",
       "  <tbody>\n",
       "    <tr>\n",
       "      <th>0</th>\n",
       "      <td>Mener flyplass­planer i nord må skrotes</td>\n",
       "      <td>https://www.nrk.no/nordland/naturvernforbundet...</td>\n",
       "    </tr>\n",
       "    <tr>\n",
       "      <th>1</th>\n",
       "      <td>Avslørt i Frankrike: Politiet på jakt etter in...</td>\n",
       "      <td>https://www.nrk.no/urix/fransk-politi-jakter-i...</td>\n",
       "    </tr>\n",
       "  </tbody>\n",
       "</table>\n",
       "</div>"
      ],
      "text/plain": [
       "                                          Overskrift  \\\n",
       "0            Mener flyplass­planer i nord må skrotes   \n",
       "1  Avslørt i Frankrike: Politiet på jakt etter in...   \n",
       "\n",
       "                                               Lenke  \n",
       "0  https://www.nrk.no/nordland/naturvernforbundet...  \n",
       "1  https://www.nrk.no/urix/fransk-politi-jakter-i...  "
      ]
     },
     "execution_count": 16,
     "metadata": {},
     "output_type": "execute_result"
    }
   ],
   "source": [
    "def section_extractor (section):\n",
    "    results = pd.DataFrame(columns = ['Overskrift','Lenke']) # Holder informasjonen som skal returneres\n",
    "    \n",
    "    elems = section.find_all('a', href=True) # Vi så over at overskriftene og linkene lå nøstet i a-tagsene, henter derfor ut de\n",
    "    for elem in elems:\n",
    "        title = elem.find(['h1','h2','h3']) # Henter ut overskriftene. Fra HTML-koden kan vi se at de vairerer mellom hvilken h, men aldri mer enn en per bolk\n",
    "        if(title == None): # Dersom det ikke er tilknyttet en overskrift til linken hopper vi videre til neste\n",
    "            continue\n",
    "            \n",
    "        title = ' '.join(title.text.split()) # Rensker opp, fjerner linjeskift etc\n",
    "        link = elem['href'] # Henter ut lenken\n",
    "        res = [title, link]\n",
    "        results = results.append(pd.Series(res, index = ['Overskrift','Lenke']), ignore_index = True) # Lagrer resultatene\n",
    "        \n",
    "        \n",
    "    return(results)\n",
    "\n",
    "\n",
    "section_extractor(seksjoner[5])\n",
    "        "
   ]
  },
  {
   "cell_type": "markdown",
   "metadata": {},
   "source": [
    "Looper gjennom alle seksjonene vi har hentet ut for å få et samlet resultatsett"
   ]
  },
  {
   "cell_type": "code",
   "execution_count": 17,
   "metadata": {},
   "outputs": [],
   "source": [
    "results = pd.DataFrame(columns = ['Overskrift','Lenke']) # Holder informasjonen som skal returneres\n",
    "\n",
    "for seksjon in seksjoner:\n",
    "    temp = section_extractor(seksjon)\n",
    "    results = results.append(temp, ignore_index = True)"
   ]
  },
  {
   "cell_type": "code",
   "execution_count": 18,
   "metadata": {},
   "outputs": [
    {
     "data": {
      "text/html": [
       "<div>\n",
       "<style scoped>\n",
       "    .dataframe tbody tr th:only-of-type {\n",
       "        vertical-align: middle;\n",
       "    }\n",
       "\n",
       "    .dataframe tbody tr th {\n",
       "        vertical-align: top;\n",
       "    }\n",
       "\n",
       "    .dataframe thead th {\n",
       "        text-align: right;\n",
       "    }\n",
       "</style>\n",
       "<table border=\"1\" class=\"dataframe\">\n",
       "  <thead>\n",
       "    <tr style=\"text-align: right;\">\n",
       "      <th></th>\n",
       "      <th>Overskrift</th>\n",
       "      <th>Lenke</th>\n",
       "    </tr>\n",
       "  </thead>\n",
       "  <tbody>\n",
       "    <tr>\n",
       "      <th>0</th>\n",
       "      <td>Maria (21) skal skru den biologiske alderen si...</td>\n",
       "      <td>https://www.nrk.no/vestland/maria-_21_-skal-se...</td>\n",
       "    </tr>\n",
       "    <tr>\n",
       "      <th>1</th>\n",
       "      <td>Ringnes reagerer på øl-merke – ser du likheten?</td>\n",
       "      <td>https://www.nrk.no/kultur/synes-du-noe-virker-...</td>\n",
       "    </tr>\n",
       "    <tr>\n",
       "      <th>2</th>\n",
       "      <td>Måtte amputere foten etter feiloperasjon – kal...</td>\n",
       "      <td>https://www.nrk.no/sorlandet/feilopererte-finn...</td>\n",
       "    </tr>\n",
       "    <tr>\n",
       "      <th>3</th>\n",
       "      <td>Uveret: Melder om bilar med sommar­dekk</td>\n",
       "      <td>https://www.nrk.no/vestland/sno-skapar-store-u...</td>\n",
       "    </tr>\n",
       "    <tr>\n",
       "      <th>4</th>\n",
       "      <td>Mannskapet evakuert: Kystverket: Risiko for at...</td>\n",
       "      <td>https://www.nrk.no/norge/kystverket_-risiko-fo...</td>\n",
       "    </tr>\n",
       "    <tr>\n",
       "      <th>...</th>\n",
       "      <td>...</td>\n",
       "      <td>...</td>\n",
       "    </tr>\n",
       "    <tr>\n",
       "      <th>71</th>\n",
       "      <td>Rundstal utviklings­hemma foster­dotter for å ...</td>\n",
       "      <td>https://www.nrk.no/mr/spelte-vekk-pengane-til-...</td>\n",
       "    </tr>\n",
       "    <tr>\n",
       "      <th>72</th>\n",
       "      <td>Er Herman Dahl en selvgod, uplaget gladlaks?</td>\n",
       "      <td>https://radio.nrk.no/podkast/saann_er_du/l_500...</td>\n",
       "    </tr>\n",
       "    <tr>\n",
       "      <th>73</th>\n",
       "      <td>Toves papir­kunst er kjent på andre siden av k...</td>\n",
       "      <td>https://www.nrk.no/hvordan-lage-blomster-av-pa...</td>\n",
       "    </tr>\n",
       "    <tr>\n",
       "      <th>74</th>\n",
       "      <td>Åshild er en av få dragkings i Norge: – Det er...</td>\n",
       "      <td>https://p3.no/ashild-er-en-av-fa-drag-kings-i-...</td>\n",
       "    </tr>\n",
       "    <tr>\n",
       "      <th>75</th>\n",
       "      <td>Sjekk ut NRKs podkaster</td>\n",
       "      <td>https://www.nrk.no/podkast/</td>\n",
       "    </tr>\n",
       "  </tbody>\n",
       "</table>\n",
       "<p>76 rows × 2 columns</p>\n",
       "</div>"
      ],
      "text/plain": [
       "                                           Overskrift  \\\n",
       "0   Maria (21) skal skru den biologiske alderen si...   \n",
       "1     Ringnes reagerer på øl-merke – ser du likheten?   \n",
       "2   Måtte amputere foten etter feiloperasjon – kal...   \n",
       "3             Uveret: Melder om bilar med sommar­dekk   \n",
       "4   Mannskapet evakuert: Kystverket: Risiko for at...   \n",
       "..                                                ...   \n",
       "71  Rundstal utviklings­hemma foster­dotter for å ...   \n",
       "72       Er Herman Dahl en selvgod, uplaget gladlaks?   \n",
       "73  Toves papir­kunst er kjent på andre siden av k...   \n",
       "74  Åshild er en av få dragkings i Norge: – Det er...   \n",
       "75                            Sjekk ut NRKs podkaster   \n",
       "\n",
       "                                                Lenke  \n",
       "0   https://www.nrk.no/vestland/maria-_21_-skal-se...  \n",
       "1   https://www.nrk.no/kultur/synes-du-noe-virker-...  \n",
       "2   https://www.nrk.no/sorlandet/feilopererte-finn...  \n",
       "3   https://www.nrk.no/vestland/sno-skapar-store-u...  \n",
       "4   https://www.nrk.no/norge/kystverket_-risiko-fo...  \n",
       "..                                                ...  \n",
       "71  https://www.nrk.no/mr/spelte-vekk-pengane-til-...  \n",
       "72  https://radio.nrk.no/podkast/saann_er_du/l_500...  \n",
       "73  https://www.nrk.no/hvordan-lage-blomster-av-pa...  \n",
       "74  https://p3.no/ashild-er-en-av-fa-drag-kings-i-...  \n",
       "75                        https://www.nrk.no/podkast/  \n",
       "\n",
       "[76 rows x 2 columns]"
      ]
     },
     "execution_count": 18,
     "metadata": {},
     "output_type": "execute_result"
    }
   ],
   "source": [
    "results"
   ]
  },
  {
   "cell_type": "code",
   "execution_count": null,
   "metadata": {},
   "outputs": [],
   "source": []
  }
 ],
 "metadata": {
  "kernelspec": {
   "display_name": "Python 3",
   "language": "python",
   "name": "python3"
  },
  "language_info": {
   "codemirror_mode": {
    "name": "ipython",
    "version": 3
   },
   "file_extension": ".py",
   "mimetype": "text/x-python",
   "name": "python",
   "nbconvert_exporter": "python",
   "pygments_lexer": "ipython3",
   "version": "3.8.5"
  }
 },
 "nbformat": 4,
 "nbformat_minor": 4
}
